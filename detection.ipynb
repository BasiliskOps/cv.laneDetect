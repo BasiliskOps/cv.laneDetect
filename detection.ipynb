{
 "cells": [
  {
   "cell_type": "code",
   "execution_count": 7,
   "metadata": {},
   "outputs": [],
   "source": [
    "import sys  \n",
    "import numpy as np\n",
    "import cv2 \n"
   ]
  },
  {
   "cell_type": "code",
   "execution_count": 8,
   "metadata": {},
   "outputs": [],
   "source": [
    "cap = cv2.VideoCapture('/Users/basilisk/Data_Science/Capstone/cv.laneDetect/driving_frame.mp4')\n",
    "    \n",
    "if (cap.isOpened() == False):\n",
    "    print(\"Video stream failed to initialize\")\n",
    "    \n",
    "while(cap.isOpened()):\n",
    "    ret, frame = cap.read()\n",
    "    if ret == True:\n",
    "        cv2.imshow('The North Remembers', frame)\n",
    "        if cv2.waitKey(25) & 0xFF == ord('q'):\n",
    "            break\n",
    "    else:\n",
    "        break\n",
    "\n",
    "# cap.release()\n",
    "# cv2.destroyAllWindows()\n"
   ]
  },
  {
   "cell_type": "code",
   "execution_count": 6,
   "metadata": {},
   "outputs": [],
   "source": [
    "# out = cv2.VideoWriter('driving_frame.mp4',cv2.VideoWriter_fourcc('M','J','P','G'), 10, (frame_width,frame_height))"
   ]
  },
  {
   "cell_type": "markdown",
   "metadata": {},
   "source": [
    "## Current dilemma at hand:\n",
    "---\n",
    "---\n",
    "It would appear that cap.release() and cv2.destroyAllWindows() prevents the display of the video file as the code executes within milliseconds... Therefore the execution of the program opens and closes the file before it may be rendered. More study of the OpenCV documentation is needed to remedy this error.\n",
    "\n",
    "---\n",
    "---\n",
    "\n",
    "The solution will be found within: https://docs.opencv.org/3.0-beta/doc/py_tutorials/py_gui/py_video_display/py_video_display.html"
   ]
  },
  {
   "cell_type": "markdown",
   "metadata": {},
   "source": [
    "Furthermore, I must revisit the documentation as it elaborates upon saving the video data using cv2.VideoWriter. The comment in cell 8 serves as a reference point."
   ]
  }
 ],
 "metadata": {
  "kernelspec": {
   "display_name": "Python 3 (ipykernel)",
   "language": "python",
   "name": "python3"
  },
  "language_info": {
   "codemirror_mode": {
    "name": "ipython",
    "version": 3
   },
   "file_extension": ".py",
   "mimetype": "text/x-python",
   "name": "python",
   "nbconvert_exporter": "python",
   "pygments_lexer": "ipython3",
   "version": "3.9.2"
  }
 },
 "nbformat": 4,
 "nbformat_minor": 2
}
